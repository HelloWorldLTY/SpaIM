{
 "cells": [
  {
   "cell_type": "code",
   "execution_count": 4,
   "metadata": {},
   "outputs": [],
   "source": [
    "import scanpy as sc\n",
    "import numpy as np\n",
    "import pandas as pd\n",
    "import os\n",
    "import gc\n",
    "import scanpy as sc\n",
    "import numpy as np\n",
    "import random\n",
    "import os\n",
    "\n",
    "root = './dataset/'"
   ]
  },
  {
   "cell_type": "code",
   "execution_count": 2,
   "metadata": {},
   "outputs": [
    {
     "data": {
      "text/plain": [
       "AnnData object with n_obs × n_vars = 6178 × 21164\n",
       "    obs: 'merge_cell_type'"
      ]
     },
     "execution_count": 2,
     "metadata": {},
     "output_type": "execute_result"
    }
   ],
   "source": [
    "data_path = os.path.join(root, 'Dataset32', 'scRNA_count_cluster.h5ad')\n",
    "data32 = sc.read(data_path)\n",
    "\n",
    "data32"
   ]
  },
  {
   "cell_type": "code",
   "execution_count": 3,
   "metadata": {},
   "outputs": [
    {
     "data": {
      "text/plain": [
       "14"
      ]
     },
     "execution_count": 3,
     "metadata": {},
     "output_type": "execute_result"
    }
   ],
   "source": [
    "len(set(data32.obs['merge_cell_type']))"
   ]
  },
  {
   "cell_type": "markdown",
   "metadata": {},
   "source": [
    "# Finding the target K value"
   ]
  },
  {
   "cell_type": "code",
   "execution_count": null,
   "metadata": {},
   "outputs": [
    {
     "name": "stdout",
     "output_type": "stream",
     "text": [
      "\n",
      "Processing K = 5...\n"
     ]
    },
    {
     "name": "stderr",
     "output_type": "stream",
     "text": [
      "2025-03-03 17:16:01.560271: I tensorflow/core/util/port.cc:113] oneDNN custom operations are on. You may see slightly different numerical results due to floating-point round-off errors from different computation orders. To turn them off, set the environment variable `TF_ENABLE_ONEDNN_OPTS=0`.\n",
      "2025-03-03 17:16:04.029563: E external/local_xla/xla/stream_executor/cuda/cuda_dnn.cc:9261] Unable to register cuDNN factory: Attempting to register factory for plugin cuDNN when one has already been registered\n",
      "2025-03-03 17:16:04.029624: E external/local_xla/xla/stream_executor/cuda/cuda_fft.cc:607] Unable to register cuFFT factory: Attempting to register factory for plugin cuFFT when one has already been registered\n",
      "2025-03-03 17:16:04.393708: E external/local_xla/xla/stream_executor/cuda/cuda_blas.cc:1515] Unable to register cuBLAS factory: Attempting to register factory for plugin cuBLAS when one has already been registered\n",
      "2025-03-03 17:16:05.183497: I tensorflow/core/platform/cpu_feature_guard.cc:182] This TensorFlow binary is optimized to use available CPU instructions in performance-critical operations.\n",
      "To enable the following instructions: AVX2 AVX_VNNI FMA, in other operations, rebuild TensorFlow with the appropriate compiler flags.\n",
      "2025-03-03 17:16:06.131411: W tensorflow/compiler/tf2tensorrt/utils/py_utils.cc:38] TF-TRT Warning: Could not find TensorRT\n",
      "/tmp/ipykernel_2230130/4130776082.py:12: FutureWarning: In the future, the default backend for leiden will be igraph instead of leidenalg.\n",
      "\n",
      " To achieve the future defaults please pass: flavor=\"igraph\" and n_iterations=2.  directed must also be False to work with igraph's implementation.\n",
      "  sc.tl.leiden(adata, random_state=seed, resolution=resolution)\n"
     ]
    },
    {
     "name": "stdout",
     "output_type": "stream",
     "text": [
      "Iter 1: res = 1.5000, count = 25, target = 5\n",
      "Iter 2: res = 0.7500, count = 15, target = 5\n",
      "Iter 3: res = 0.3750, count = 9, target = 5\n",
      "Iter 4: res = 0.1875, count = 4, target = 5\n",
      "Iter 5: res = 0.2812, count = 8, target = 5\n",
      "Iter 6: res = 0.2344, count = 5, target = 5\n",
      "Found optimal resolution: 0.234375\n",
      "Leiden clustering results for K = 5 stored in 'leiden5'\n",
      "AnnData object with n_obs × n_vars = 6178 × 21164\n",
      "    obs: 'merge_cell_type', 'leiden', 'leiden5'\n",
      "    uns: 'pca', 'neighbors', 'leiden'\n",
      "    obsm: 'X_pca'\n",
      "    varm: 'PCs'\n",
      "    obsp: 'distances', 'connectivities'\n",
      "\n",
      "Processing K = 10...\n",
      "Iter 1: res = 1.5000, count = 25, target = 10\n",
      "Iter 2: res = 0.7500, count = 15, target = 10\n",
      "Iter 3: res = 0.3750, count = 9, target = 10\n",
      "Iter 4: res = 0.5625, count = 12, target = 10\n",
      "Iter 5: res = 0.4688, count = 9, target = 10\n",
      "Iter 6: res = 0.5156, count = 11, target = 10\n",
      "Iter 7: res = 0.4922, count = 11, target = 10\n",
      "Iter 8: res = 0.4805, count = 11, target = 10\n",
      "Iter 9: res = 0.4746, count = 11, target = 10\n",
      "Iter 10: res = 0.4717, count = 10, target = 10\n",
      "Found optimal resolution: 0.4716796875\n",
      "Leiden clustering results for K = 10 stored in 'leiden10'\n",
      "AnnData object with n_obs × n_vars = 6178 × 21164\n",
      "    obs: 'merge_cell_type', 'leiden', 'leiden5', 'leiden10'\n",
      "    uns: 'pca', 'neighbors', 'leiden'\n",
      "    obsm: 'X_pca'\n",
      "    varm: 'PCs'\n",
      "    obsp: 'distances', 'connectivities'\n",
      "\n",
      "Processing K = 15...\n",
      "Iter 1: res = 1.5000, count = 25, target = 15\n",
      "Iter 2: res = 0.7500, count = 15, target = 15\n",
      "Found optimal resolution: 0.75\n",
      "Leiden clustering results for K = 15 stored in 'leiden15'\n",
      "AnnData object with n_obs × n_vars = 6178 × 21164\n",
      "    obs: 'merge_cell_type', 'leiden', 'leiden5', 'leiden10', 'leiden15'\n",
      "    uns: 'pca', 'neighbors', 'leiden'\n",
      "    obsm: 'X_pca'\n",
      "    varm: 'PCs'\n",
      "    obsp: 'distances', 'connectivities'\n",
      "\n",
      "Processing K = 20...\n",
      "Iter 1: res = 1.5000, count = 25, target = 20\n",
      "Iter 2: res = 0.7500, count = 15, target = 20\n",
      "Iter 3: res = 1.1250, count = 19, target = 20\n",
      "Iter 4: res = 1.3125, count = 21, target = 20\n",
      "Iter 5: res = 1.2188, count = 20, target = 20\n",
      "Found optimal resolution: 1.21875\n",
      "Leiden clustering results for K = 20 stored in 'leiden20'\n",
      "AnnData object with n_obs × n_vars = 6178 × 21164\n",
      "    obs: 'merge_cell_type', 'leiden', 'leiden5', 'leiden10', 'leiden15', 'leiden20'\n",
      "    uns: 'pca', 'neighbors', 'leiden'\n",
      "    obsm: 'X_pca'\n",
      "    varm: 'PCs'\n",
      "    obsp: 'distances', 'connectivities'\n",
      "\n",
      "Processing K = 25...\n",
      "Iter 1: res = 1.5000, count = 25, target = 25\n",
      "Found optimal resolution: 1.5\n",
      "Leiden clustering results for K = 25 stored in 'leiden25'\n",
      "AnnData object with n_obs × n_vars = 6178 × 21164\n",
      "    obs: 'merge_cell_type', 'leiden', 'leiden5', 'leiden10', 'leiden15', 'leiden20', 'leiden25'\n",
      "    uns: 'pca', 'neighbors', 'leiden'\n",
      "    obsm: 'X_pca'\n",
      "    varm: 'PCs'\n",
      "    obsp: 'distances', 'connectivities'\n",
      "\n",
      "Processing K = 30...\n",
      "Iter 1: res = 1.5000, count = 25, target = 30\n",
      "Iter 2: res = 2.2500, count = 31, target = 30\n",
      "Iter 3: res = 1.8750, count = 26, target = 30\n",
      "Iter 4: res = 2.0625, count = 28, target = 30\n",
      "Iter 5: res = 2.1562, count = 29, target = 30\n",
      "Iter 6: res = 2.2031, count = 32, target = 30\n",
      "Iter 7: res = 2.1797, count = 32, target = 30\n",
      "Iter 8: res = 2.1680, count = 29, target = 30\n",
      "Iter 9: res = 2.1738, count = 29, target = 30\n",
      "Iter 10: res = 2.1768, count = 32, target = 30\n",
      "Iter 11: res = 2.1753, count = 29, target = 30\n",
      "Iter 12: res = 2.1760, count = 29, target = 30\n",
      "Converged to resolution: 2.176025390625 (count = 29)\n",
      "Leiden clustering results for K = 30 stored in 'leiden30'\n",
      "AnnData object with n_obs × n_vars = 6178 × 21164\n",
      "    obs: 'merge_cell_type', 'leiden', 'leiden5', 'leiden10', 'leiden15', 'leiden20', 'leiden25', 'leiden30'\n",
      "    uns: 'pca', 'neighbors', 'leiden'\n",
      "    obsm: 'X_pca'\n",
      "    varm: 'PCs'\n",
      "    obsp: 'distances', 'connectivities'\n",
      "\n",
      "All Leiden clustering results saved'\n"
     ]
    }
   ],
   "source": [
    "def set_random_seed(seed):\n",
    "    random.seed(seed)\n",
    "    np.random.seed(seed)\n",
    "    os.environ['PYTHONHASHSEED'] = str(seed)\n",
    "    os.environ['CUBLAS_WORKSPACE_CONFIG'] = ':4096:8'\n",
    "\n",
    "def leiden_clustering(adata, resolution, seed):\n",
    "    sc.tl.pca(adata, random_state=seed)\n",
    "    \n",
    "    sc.pp.neighbors(adata, random_state=seed)\n",
    "    \n",
    "    sc.tl.leiden(adata, random_state=seed, resolution=resolution)\n",
    "    return adata\n",
    "\n",
    "def res_search(adata_pred, ncluster, seed=1234, max_iter=200, tol=1e-3):\n",
    "\n",
    "    start, end = 0, 3  # resolution 搜索范围\n",
    "    best_res = None\n",
    "\n",
    "    for i in range(max_iter):\n",
    "        res = (start + end) / 2\n",
    "        set_random_seed(seed)\n",
    "\n",
    "        leiden_clustering(adata_pred, res, seed)\n",
    "\n",
    "        count = len(set(adata_pred.obs['leiden']))\n",
    "        print(f'Iter {i + 1}: res = {res:.4f}, count = {count}, target = {ncluster}')\n",
    "\n",
    "        if count == ncluster:\n",
    "            print(f'Found optimal resolution: {res}')\n",
    "            return res\n",
    "        elif count > ncluster:\n",
    "            end = res \n",
    "        else:\n",
    "            start = res \n",
    "\n",
    "        if abs(end - start) < tol:\n",
    "            print(f'Converged to resolution: {res} (count = {count})')\n",
    "            return res\n",
    "\n",
    "    raise RuntimeError(f'Failed to find resolution after {max_iter} iterations')\n",
    "\n",
    "\n",
    "k_values = [5,10,15,20,25,30]\n",
    "\n",
    "for k in k_values:\n",
    "    print(f\"\\nProcessing K = {k}...\")\n",
    "    \n",
    "    res = res_search(data32, k)\n",
    "    \n",
    "    leiden_clustering(data32, res, seed=1234)\n",
    "    data32.obs[f'leiden{k}'] = data32.obs['leiden']\n",
    "    print(f\"Leiden clustering results for K = {k} stored in 'leiden{k}'\")\n",
    "    print(data32)\n",
    "\n",
    "data32.write('./dataset/Dataset32/Review_scRNA_count_cluster.h5ad')\n",
    "print(\"\\nAll Leiden clustering results saved'\")"
   ]
  },
  {
   "cell_type": "code",
   "execution_count": 6,
   "metadata": {},
   "outputs": [
    {
     "data": {
      "text/plain": [
       "AnnData object with n_obs × n_vars = 6178 × 21164\n",
       "    obs: 'merge_cell_type', 'leiden', 'leiden5', 'leiden10', 'leiden15', 'leiden20', 'leiden25', 'leiden30'\n",
       "    uns: 'pca', 'neighbors', 'leiden'\n",
       "    obsm: 'X_pca'\n",
       "    varm: 'PCs'\n",
       "    obsp: 'distances', 'connectivities'"
      ]
     },
     "execution_count": 6,
     "metadata": {},
     "output_type": "execute_result"
    }
   ],
   "source": [
    "data32"
   ]
  },
  {
   "cell_type": "markdown",
   "metadata": {},
   "source": [
    "## Then, simply replace the \"merge_cell_type\" in `dataset.py` with the Leiden clustering results corresponding to different K values:\n",
    "\n",
    "## If K = 5: `self.seq_cluster = self.seq_data.obs['leiden5'].cat.codes.values`"
   ]
  },
  {
   "cell_type": "markdown",
   "metadata": {},
   "source": []
  }
 ],
 "metadata": {
  "kernelspec": {
   "display_name": "Python 3",
   "language": "python",
   "name": "python3"
  },
  "language_info": {
   "codemirror_mode": {
    "name": "ipython",
    "version": 3
   },
   "file_extension": ".py",
   "mimetype": "text/x-python",
   "name": "python",
   "nbconvert_exporter": "python",
   "pygments_lexer": "ipython3",
   "version": "3.11.9"
  }
 },
 "nbformat": 4,
 "nbformat_minor": 2
}

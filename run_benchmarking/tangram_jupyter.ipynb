{
 "cells": [
  {
   "cell_type": "code",
   "execution_count": 4,
   "id": "5c7e7d36",
   "metadata": {},
   "outputs": [],
   "source": [
    "import scanpy as sc\n",
    "import squidpy as sq\n",
    "import numpy as np\n",
    "import pandas as pd\n",
    "from anndata import AnnData\n",
    "import pathlib\n",
    "import matplotlib.pyplot as plt\n",
    "import matplotlib as mpl\n",
    "import skimage\n",
    "import seaborn as sns\n",
    "import tangram as tg\n",
    "import os\n",
    "import random\n",
    "import os\n",
    "import numpy as np\n",
    "import torch\n",
    "\n",
    "import pandas as pd\n",
    "from scipy import stats\n",
    "import scipy.stats as st\n",
    "import seaborn as sns\n",
    "import matplotlib as mpl \n",
    "import matplotlib.pyplot as plt\n",
    "import os\n",
    "import torch\n",
    "from torch.nn.functional import softmax, cosine_similarity, sigmoid\n",
    "import tangram as tg\n",
    "\n",
    "from utils import CalculateMeteics"
   ]
  },
  {
   "cell_type": "code",
   "execution_count": 51,
   "id": "004006a8",
   "metadata": {},
   "outputs": [],
   "source": [
    "def Tangram_impute(K, RNA_data_adata1, Spatial_data_adata1, train_gene, predict_gene,\n",
    "    annotate = None, modes = 'clusters', density = 'rna_count_based'):\n",
    "\n",
    "    print ('We run Tangram for data')\n",
    "    test_list = predict_gene[K]\n",
    "    test_list = [x.lower() for x in test_list]\n",
    "    train_list = train_gene[K]\n",
    "    spatial_data_partial = Spatial_data_adata1[:, train_list]\n",
    "    train_list = np.array(train_list)\n",
    "    if annotate == None:\n",
    "        RNA_data_adata_label = RNA_data_adata1\n",
    "        sc.pp.normalize_total(RNA_data_adata_label)\n",
    "        sc.pp.log1p(RNA_data_adata_label)\n",
    "        sc.pp.highly_variable_genes(RNA_data_adata_label)\n",
    "        RNA_data_adata_label = RNA_data_adata_label[:, RNA_data_adata_label.var.highly_variable]\n",
    "        sc.pp.scale(RNA_data_adata_label, max_value=10)\n",
    "        sc.tl.pca(RNA_data_adata_label)\n",
    "        sc.pp.neighbors(RNA_data_adata_label)\n",
    "        sc.tl.leiden(RNA_data_adata_label, resolution = 0.5)\n",
    "        RNA_data_adata.obs['leiden']  = RNA_data_adata_label.obs.leiden\n",
    "    else:\n",
    "        global CellTypeAnnotate\n",
    "        RNA_data_adata1.obs['leiden']  = CellTypeAnnotate\n",
    "    tg.pp_adatas(RNA_data_adata1, spatial_data_partial, genes=train_list)\n",
    "    device = torch.device('cuda:0')\n",
    "    if modes == 'clusters':\n",
    "        ad_map = tg.map_cells_to_space(RNA_data_adata1, spatial_data_partial, device = device, mode = modes, cluster_label = 'leiden', density_prior = density)\n",
    "        ad_ge = tg.project_genes(ad_map, RNA_data_adata1, cluster_label = 'leiden')\n",
    "    else:\n",
    "        ad_map = tg.map_cells_to_space(RNA_data_adata, spatial_data_partial, device = device, mode=modes, target_count=spatial_data_partial.shape[1], lambda_f_reg=1, lambda_count=1)\n",
    "        ad_ge = tg.project_genes(ad_map, RNA_data_adata1)\n",
    "    test_list = list(set(ad_ge.var_names) & set(test_list))\n",
    "    test_list = np.array(test_list)\n",
    "    pre_gene = pd.DataFrame(ad_ge[:,test_list].X, index=ad_ge[:,test_list].obs_names, columns=ad_ge[:,test_list].var_names)\n",
    "    all_gene = pd.DataFrame(ad_ge.X, index=ad_ge.obs_names, columns=ad_ge.var_names)\n",
    "    return pre_gene, all_gene\n"
   ]
  },
  {
   "cell_type": "code",
   "execution_count": 52,
   "id": "a154bff5",
   "metadata": {},
   "outputs": [],
   "source": [
    "def Tangram_impute2(K, RNA_data_adata1, Spatial_data_adata1, train_gene, predict_gene,\n",
    "    annotate = None, modes = 'constrained', density = 'rna_count_based'):\n",
    "\n",
    "    print ('We run Tangram for data')\n",
    "    test_list = predict_gene[K]\n",
    "    test_list = [x.lower() for x in test_list]\n",
    "    train_list = train_gene[K]\n",
    "    spatial_data_partial = Spatial_data_adata1[:, train_list]\n",
    "    train_list = np.array(train_list)\n",
    "    if annotate == None:\n",
    "        RNA_data_adata_label = RNA_data_adata1\n",
    "        sc.pp.normalize_total(RNA_data_adata_label)\n",
    "        sc.pp.log1p(RNA_data_adata_label)\n",
    "        sc.pp.highly_variable_genes(RNA_data_adata_label)\n",
    "        RNA_data_adata_label = RNA_data_adata_label[:, RNA_data_adata_label.var.highly_variable]\n",
    "        sc.pp.scale(RNA_data_adata_label, max_value=10)\n",
    "        sc.tl.pca(RNA_data_adata_label)\n",
    "        sc.pp.neighbors(RNA_data_adata_label)\n",
    "        sc.tl.leiden(RNA_data_adata_label, resolution = 0.5)\n",
    "        RNA_data_adata.obs['leiden']  = RNA_data_adata_label.obs.leiden\n",
    "    else:\n",
    "        global CellTypeAnnotate\n",
    "        RNA_data_adata1.obs['leiden']  = CellTypeAnnotate\n",
    "    tg.pp_adatas(RNA_data_adata1, spatial_data_partial, genes=train_list)\n",
    "    device = torch.device('cuda:0')\n",
    "    if modes == 'clusters':\n",
    "        ad_map = tg.map_cells_to_space(RNA_data_adata1, spatial_data_partial, device = device, mode = modes, cluster_label = 'leiden', density_prior = density)\n",
    "        ad_ge = tg.project_genes(ad_map, RNA_data_adata1, cluster_label = 'leiden')\n",
    "    else:\n",
    "        ad_map = tg.map_cells_to_space(RNA_data_adata, spatial_data_partial, device = device, mode=modes, target_count=spatial_data_partial.shape[1], lambda_f_reg=1, lambda_count=1)\n",
    "        ad_ge = tg.project_genes(ad_map, RNA_data_adata1)\n",
    "    test_list = list(set(ad_ge.var_names) & set(test_list))\n",
    "    test_list = np.array(test_list)\n",
    "    pre_gene = pd.DataFrame(ad_ge[:,test_list].X, index=ad_ge[:,test_list].obs_names, columns=ad_ge[:,test_list].var_names)\n",
    "    all_gene = pd.DataFrame(ad_ge.X, index=ad_ge.obs_names, columns=ad_ge.var_names)\n",
    "    return pre_gene, all_gene\n"
   ]
  },
  {
   "cell_type": "code",
   "execution_count": 7,
   "id": "e6bb879c",
   "metadata": {},
   "outputs": [],
   "source": [
    "DataDir = '../dataset/benchmark_datasets/Dataset4/'\n",
    "outdir = '../results/benchmark_datasets/Dataset4'\n",
    "if not os.path.exists(outdir):\n",
    "    os.makedirs(outdir)\n",
    "\n",
    "RNA_file = DataDir + 'scRNA_count.h5ad'\n",
    "Spatial_file = DataDir + 'Insitu_count.h5ad'\n",
    "location_file = DataDir + 'Locations.txt'\n",
    "\n",
    "# RNA_data = pd.read_table(RNA_file, header=0, index_col = 0)\n",
    "# Spatial_data = pd.read_table(Spatial_file, sep = '\\t',header = 0)\n",
    "RNA_data_adata = sc.read(RNA_file)\n",
    "Spatial_data_adata = sc.read(Spatial_file)\n",
    "# locations = np.loadtxt(location_file, skiprows=1)\n",
    "\n",
    "train_gene = np.load(DataDir + 'train_list.npy', allow_pickle=True).tolist()\n",
    "predict_gene = np.load(DataDir+'test_list.npy', allow_pickle=True).tolist()\n",
    "device = 'GPU'"
   ]
  },
  {
   "cell_type": "code",
   "execution_count": 8,
   "id": "48f5abc2",
   "metadata": {},
   "outputs": [
    {
     "name": "stdout",
     "output_type": "stream",
     "text": [
      "We run Tangram for data\n"
     ]
    },
    {
     "name": "stderr",
     "output_type": "stream",
     "text": [
      "INFO:root:900 training genes are saved in `uns``training_genes` of both single cell and spatial Anndatas.\n",
      "INFO:root:900 overlapped genes are saved in `uns``overlap_genes` of both single cell and spatial Anndatas.\n",
      "INFO:root:uniform based density prior is calculated and saved in `obs``uniform_density` of the spatial Anndata.\n",
      "INFO:root:rna count based density prior is calculated and saved in `obs``rna_count_based_density` of the spatial Anndata.\n",
      "INFO:root:Allocate tensors for mapping.\n",
      "INFO:root:Begin training with 900 genes and rna_count_based density_prior in clusters mode...\n",
      "INFO:root:Printing scores every 100 epochs.\n"
     ]
    },
    {
     "name": "stdout",
     "output_type": "stream",
     "text": [
      "Score: 0.548, KL reg: 0.249\n",
      "Score: 0.750, KL reg: 0.000\n",
      "Score: 0.752, KL reg: 0.000\n",
      "Score: 0.752, KL reg: 0.000\n",
      "Score: 0.753, KL reg: 0.000\n",
      "Score: 0.753, KL reg: 0.000\n",
      "Score: 0.753, KL reg: 0.000\n",
      "Score: 0.753, KL reg: 0.000\n",
      "Score: 0.753, KL reg: 0.000\n",
      "Score: 0.753, KL reg: 0.000\n"
     ]
    },
    {
     "name": "stderr",
     "output_type": "stream",
     "text": [
      "INFO:root:Saving results..\n"
     ]
    }
   ],
   "source": [
    "result, all_results = Tangram_impute(0, RNA_data_adata, Spatial_data_adata, train_gene, predict_gene)"
   ]
  },
  {
   "cell_type": "code",
   "execution_count": 32,
   "id": "f8550467",
   "metadata": {},
   "outputs": [],
   "source": [
    "test_list = predict_gene[0]\n",
    "test_list = [x.lower() for x in test_list]\n",
    "\n",
    "result.columns = [x.lower() for x in result.columns]\n",
    "result_test = result[test_list]\n",
    "# predict = Spatial_data_adata[:, test_list]\n",
    "df = pd.DataFrame(Spatial_data_adata.X, Spatial_data_adata.obs.index, Spatial_data_adata.var.index)\n",
    "df.columns = [x.lower() for x in df.columns]\n",
    "df_test = df[test_list]\n"
   ]
  },
  {
   "cell_type": "code",
   "execution_count": 33,
   "id": "0486a4c5",
   "metadata": {},
   "outputs": [
    {
     "name": "stdout",
     "output_type": "stream",
     "text": [
      "(524, 100) (524, 100)\n",
      "SSIM\n",
      "PCC\n",
      "JS\n",
      "RMSE\n"
     ]
    }
   ],
   "source": [
    "prefix = '../results/benchmark_datasets/Dataset4/'\n",
    "metric = 'all'\n",
    "name = 'tangram'\n",
    "# predict = Spatial_data_adata[:, result.columns]\n",
    "# df = pd.DataFrame(predict.X, predict.obs.index, predict.var.index)\n",
    "\n",
    "evaluate = CalculateMeteics(df_test, result_test, prefix, metric, name)\n",
    "acc = evaluate.compute_all()"
   ]
  },
  {
   "cell_type": "code",
   "execution_count": 35,
   "id": "b3565acf",
   "metadata": {},
   "outputs": [
    {
     "data": {
      "text/plain": [
       "0.3724415915018319"
      ]
     },
     "execution_count": 35,
     "metadata": {},
     "output_type": "execute_result"
    }
   ],
   "source": [
    "acc.T['PCC'].mean()"
   ]
  },
  {
   "cell_type": "code",
   "execution_count": 42,
   "id": "7eb211f8",
   "metadata": {},
   "outputs": [
    {
     "name": "stdout",
     "output_type": "stream",
     "text": [
      "We run Tangram for data\n",
      "WARNING: adata.X seems to be already log-transformed.\n"
     ]
    },
    {
     "name": "stderr",
     "output_type": "stream",
     "text": [
      "INFO:root:900 training genes are saved in `uns``training_genes` of both single cell and spatial Anndatas.\n",
      "INFO:root:900 overlapped genes are saved in `uns``overlap_genes` of both single cell and spatial Anndatas.\n",
      "INFO:root:uniform based density prior is calculated and saved in `obs``uniform_density` of the spatial Anndata.\n",
      "INFO:root:rna count based density prior is calculated and saved in `obs``rna_count_based_density` of the spatial Anndata.\n",
      "INFO:root:Allocate tensors for mapping.\n",
      "INFO:root:Begin training with 900 genes and rna_count_based density_prior in constrained mode...\n"
     ]
    },
    {
     "name": "stdout",
     "output_type": "stream",
     "text": [
      "Score: 0.599, KL reg: 0.187, Count reg: 6217.080, Lambda f reg: 2940.947\n",
      "Score: 0.790, KL reg: 0.000, Count reg: 343.977, Lambda f reg: 421.716\n",
      "Score: 0.792, KL reg: 0.000, Count reg: 1.038, Lambda f reg: 351.760\n",
      "Score: 0.791, KL reg: 0.000, Count reg: 1.528, Lambda f reg: 219.353\n",
      "Score: 0.790, KL reg: 0.000, Count reg: 3.278, Lambda f reg: 167.707\n",
      "Score: 0.790, KL reg: 0.000, Count reg: 0.208, Lambda f reg: 143.800\n",
      "Score: 0.790, KL reg: 0.000, Count reg: 1.441, Lambda f reg: 125.378\n",
      "Score: 0.790, KL reg: 0.000, Count reg: 1.612, Lambda f reg: 111.371\n",
      "Score: 0.790, KL reg: 0.000, Count reg: 0.496, Lambda f reg: 102.521\n",
      "Score: 0.790, KL reg: 0.000, Count reg: 0.720, Lambda f reg: 96.279\n"
     ]
    },
    {
     "name": "stderr",
     "output_type": "stream",
     "text": [
      "INFO:root:Saving results..\n"
     ]
    }
   ],
   "source": [
    "result2, all_results2 = Tangram_impute2(0, RNA_data_adata, Spatial_data_adata, train_gene, predict_gene)"
   ]
  },
  {
   "cell_type": "code",
   "execution_count": 43,
   "id": "92a472bf",
   "metadata": {},
   "outputs": [
    {
     "name": "stdout",
     "output_type": "stream",
     "text": [
      "(524, 100) (524, 100)\n",
      "SSIM\n",
      "PCC\n",
      "JS\n",
      "RMSE\n"
     ]
    }
   ],
   "source": [
    "test_list = predict_gene[0]\n",
    "test_list = [x.lower() for x in test_list]\n",
    "\n",
    "result.columns = [x.lower() for x in result.columns]\n",
    "result_test = result2[test_list]\n",
    "# predict = Spatial_data_adata[:, test_list]\n",
    "df = pd.DataFrame(Spatial_data_adata.X, Spatial_data_adata.obs.index, Spatial_data_adata.var.index)\n",
    "df.columns = [x.lower() for x in df.columns]\n",
    "df_test = df[test_list]\n",
    "\n",
    "prefix = '../results/benchmark_datasets/Dataset4/'\n",
    "metric = 'all'\n",
    "name = 'tangram'\n",
    "# predict = Spatial_data_adata[:, result.columns]\n",
    "# df = pd.DataFrame(predict.X, predict.obs.index, predict.var.index)\n",
    "\n",
    "evaluate = CalculateMeteics(df_test, result_test, prefix, metric, name)\n",
    "acc = evaluate.compute_all()"
   ]
  },
  {
   "cell_type": "code",
   "execution_count": 44,
   "id": "6786a8e9",
   "metadata": {},
   "outputs": [
    {
     "data": {
      "text/plain": [
       "0.34067098232077275"
      ]
     },
     "execution_count": 44,
     "metadata": {},
     "output_type": "execute_result"
    }
   ],
   "source": [
    "acc.T['PCC'].mean()"
   ]
  },
  {
   "cell_type": "code",
   "execution_count": 49,
   "id": "7550e66a",
   "metadata": {},
   "outputs": [
    {
     "name": "stdout",
     "output_type": "stream",
     "text": [
      "We run Tangram for data\n",
      "WARNING: adata.X seems to be already log-transformed.\n"
     ]
    },
    {
     "name": "stderr",
     "output_type": "stream",
     "text": [
      "INFO:root:900 training genes are saved in `uns``training_genes` of both single cell and spatial Anndatas.\n",
      "INFO:root:900 overlapped genes are saved in `uns``overlap_genes` of both single cell and spatial Anndatas.\n",
      "INFO:root:uniform based density prior is calculated and saved in `obs``uniform_density` of the spatial Anndata.\n",
      "INFO:root:rna count based density prior is calculated and saved in `obs``rna_count_based_density` of the spatial Anndata.\n",
      "INFO:root:Allocate tensors for mapping.\n",
      "INFO:root:Begin training with 900 genes and rna_count_based density_prior in clusters mode...\n",
      "INFO:root:Printing scores every 100 epochs.\n"
     ]
    },
    {
     "name": "stdout",
     "output_type": "stream",
     "text": [
      "Score: 0.556, KL reg: 0.223\n",
      "Score: 0.728, KL reg: 0.000\n",
      "Score: 0.730, KL reg: 0.000\n",
      "Score: 0.730, KL reg: 0.000\n",
      "Score: 0.731, KL reg: 0.000\n",
      "Score: 0.731, KL reg: 0.000\n",
      "Score: 0.731, KL reg: 0.000\n",
      "Score: 0.731, KL reg: 0.000\n",
      "Score: 0.731, KL reg: 0.000\n",
      "Score: 0.731, KL reg: 0.000\n"
     ]
    },
    {
     "name": "stderr",
     "output_type": "stream",
     "text": [
      "INFO:root:Saving results..\n"
     ]
    }
   ],
   "source": [
    "result, all_results = Tangram_impute(9, RNA_data_adata, Spatial_data_adata, train_gene, predict_gene)"
   ]
  },
  {
   "cell_type": "code",
   "execution_count": 54,
   "id": "d8195cb8",
   "metadata": {},
   "outputs": [
    {
     "name": "stdout",
     "output_type": "stream",
     "text": [
      "(524, 100) (524, 100)\n",
      "SSIM\n",
      "PCC\n",
      "JS\n",
      "RMSE\n"
     ]
    }
   ],
   "source": [
    "test_list = predict_gene[9]\n",
    "test_list = [x.lower() for x in test_list]\n",
    "\n",
    "result.columns = [x.lower() for x in result.columns]\n",
    "result_test = result[test_list]\n",
    "# predict = Spatial_data_adata[:, test_list]\n",
    "df = pd.DataFrame(Spatial_data_adata.X, Spatial_data_adata.obs.index, Spatial_data_adata.var.index)\n",
    "df.columns = [x.lower() for x in df.columns]\n",
    "df_test = df[test_list]\n",
    "\n",
    "prefix = '../results/benchmark_datasets/Dataset4/'\n",
    "metric = 'all'\n",
    "name = 'tangram'\n",
    "# predict = Spatial_data_adata[:, result.columns]\n",
    "# df = pd.DataFrame(predict.X, predict.obs.index, predict.var.index)\n",
    "\n",
    "evaluate = CalculateMeteics(df_test, result_test, prefix, metric, name)\n",
    "acc = evaluate.compute_all()"
   ]
  },
  {
   "cell_type": "code",
   "execution_count": 58,
   "id": "8335f952",
   "metadata": {},
   "outputs": [
    {
     "data": {
      "text/plain": [
       "arhgap32    0.806117\n",
       "nptx1       0.574428\n",
       "atp6v0a1    0.840822\n",
       "actr1b      0.693068\n",
       "abhd8       0.753320\n",
       "              ...   \n",
       "cldn11      0.913741\n",
       "gsn         0.265707\n",
       "cnp         0.279282\n",
       "cplx1       0.768569\n",
       "mag         0.866570\n",
       "Name: PCC, Length: 100, dtype: float64"
      ]
     },
     "execution_count": 58,
     "metadata": {},
     "output_type": "execute_result"
    }
   ],
   "source": [
    "acc.T['PCC']"
   ]
  },
  {
   "cell_type": "code",
   "execution_count": 56,
   "id": "2d84f3f6",
   "metadata": {},
   "outputs": [
    {
     "data": {
      "text/plain": [
       "0      0.0\n",
       "1      2.0\n",
       "2      0.0\n",
       "3      0.0\n",
       "4      0.0\n",
       "      ... \n",
       "519    0.0\n",
       "520    0.0\n",
       "521    0.0\n",
       "522    4.0\n",
       "523    0.0\n",
       "Name: cldn11, Length: 524, dtype: float32"
      ]
     },
     "execution_count": 56,
     "metadata": {},
     "output_type": "execute_result"
    }
   ],
   "source": [
    "df_test['cldn11']"
   ]
  },
  {
   "cell_type": "code",
   "execution_count": 57,
   "id": "18b8de6a",
   "metadata": {},
   "outputs": [
    {
     "data": {
      "text/plain": [
       "0      0.112455\n",
       "1      0.085404\n",
       "2      0.088387\n",
       "3      0.048252\n",
       "4      0.024804\n",
       "         ...   \n",
       "519    0.073114\n",
       "520    0.145349\n",
       "521    0.224267\n",
       "522    0.198171\n",
       "523    0.003126\n",
       "Name: cldn11, Length: 524, dtype: float32"
      ]
     },
     "execution_count": 57,
     "metadata": {},
     "output_type": "execute_result"
    }
   ],
   "source": [
    "result_test['cldn11']"
   ]
  },
  {
   "cell_type": "code",
   "execution_count": null,
   "id": "5e4b0670",
   "metadata": {},
   "outputs": [],
   "source": []
  }
 ],
 "metadata": {
  "kernelspec": {
   "display_name": "Python 3.7.3 64-bit",
   "language": "python",
   "name": "python3"
  },
  "language_info": {
   "codemirror_mode": {
    "name": "ipython",
    "version": 3
   },
   "file_extension": ".py",
   "mimetype": "text/x-python",
   "name": "python",
   "nbconvert_exporter": "python",
   "pygments_lexer": "ipython3",
   "version": "3.8.10"
  },
  "vscode": {
   "interpreter": {
    "hash": "916dbcbb3f70747c44a77c7bcd40155683ae19c65e1c03b4aa3499c5328201f1"
   }
  }
 },
 "nbformat": 4,
 "nbformat_minor": 5
}
